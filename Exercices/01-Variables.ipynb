{
 "cells": [
  {
   "cell_type": "markdown",
   "metadata": {
    "collapsed": true,
    "pycharm": {
     "name": "#%% md\n"
    }
   },
   "source": [
    "# Les Variables\n",
    "\n",
    "Les variables sont des données que l'on stocke et manipule durant l'exécution d'un programme. Elles sont stockées en RAM et occupe de l'espace mémoire.\n",
    "En python, les variables sont non typées. Cela signifie que pour déclarer une variable, on n'a pas besoin de spécifier le type. Python devine le type de la variable.\n",
    "\n",
    "Voyons quelques examples\n",
    "\n",
    "## Déclaration de variable\n",
    "\n",
    "Disons que je souhaite stocker et utiliser des informations décrivant mon statut d'étudiant :\n",
    "- mon age (un entier)\n",
    "- mon nom et prénom (des strings)\n",
    "- le fait que j'ai, oui ou non, complété mon inscription (boolean)\n",
    "- ma moyenne (float)"
   ]
  },
  {
   "cell_type": "code",
   "execution_count": 3,
   "outputs": [],
   "source": [
    "age = 23 #écrire un entier suffit à définir une variable de ce type\n",
    "nom = \"Quivron\" #pour déclarer et initialiser un string, il suffit de l'entourer de '\"\"'\n",
    "prenom = \"Loïc\"\n",
    "is_inscription_completed = True # un boolean peut valoir True ou False\n",
    "moyenne = 14.4 # pour déclarer un nombre à virgule is suffit de l'écrire avec un \".\" à la place de la virgule"
   ],
   "metadata": {
    "collapsed": false,
    "pycharm": {
     "name": "#%%\n"
    }
   }
  },
  {
   "cell_type": "markdown",
   "source": [
    "## Afficher en python\n",
    "\n",
    "Pour afficher une variables ou une valeur (immédiat) en python, on utilise la function **print(valeur_a_afficher)**"
   ],
   "metadata": {
    "collapsed": false
   }
  },
  {
   "cell_type": "code",
   "execution_count": 4,
   "outputs": [
    {
     "name": "stdout",
     "output_type": "stream",
     "text": [
      "25\n",
      "23\n",
      "23\n",
      "Quivron\n"
     ]
    }
   ],
   "source": [
    "print(25)\n",
    "print(23)\n",
    "print(age)\n",
    "print(nom)"
   ],
   "metadata": {
    "collapsed": false,
    "pycharm": {
     "name": "#%%\n"
    }
   }
  },
  {
   "cell_type": "markdown",
   "source": [
    "# Manipulation de variables\n",
    "\n",
    "Les variables sont faites pour être manipulées et traitées. Cela peut se faire via de **opérations** ou des **fonctions**\n",
    "\n",
    "## Operations\n",
    "Plusieurs opérations existent en python et elles servent généralement à effectuer des opérations:\n",
    "- arithmétiques : +,-,*,/,...\n",
    "- logique : AND, OR, XOR"
   ],
   "metadata": {
    "collapsed": false
   }
  },
  {
   "cell_type": "markdown",
   "source": [
    "### Opérations arithmétiques\n",
    "\n",
    "Les opérations arithmétiques en python peuvent être effectuées avec les opérateurs suivants :\n",
    "- addition : **+**\n",
    "- soustraction : **-**\n",
    "- division : **/** ou **//**\n",
    "- multiplication : **\\***\n",
    "- exposant : **\\*\\***\n"
   ],
   "metadata": {
    "collapsed": false
   }
  },
  {
   "cell_type": "code",
   "execution_count": 17,
   "outputs": [
    {
     "name": "stdout",
     "output_type": "stream",
     "text": [
      "25 + 50 = 75\n",
      "25 - 50 = -25\n",
      "50 / 2 = 25.0\n",
      "50 // 2 = 25 #remarque l'absence de virgule\n",
      "50 * 2 = 100\n",
      "50 ** 2 = 2500\n"
     ]
    }
   ],
   "source": [
    "print(f\"{25 + 50 = }\")\n",
    "print(f\"{25 - 50 = }\")\n",
    "print(f\"{50 / 2 = }\")\n",
    "print(f\"{50 // 2 = } #remarque l'absence de virgule\")\n",
    "print(f\"{50 * 2 = }\")\n",
    "print(f\"{50 ** 2 = }\")"
   ],
   "metadata": {
    "collapsed": false,
    "pycharm": {
     "name": "#%%\n"
    }
   }
  },
  {
   "cell_type": "markdown",
   "source": [
    "### Opérations logiques\n",
    "\n",
    "Python dispose aussi d'opérations qu'on dit logique. Elles permettent de gérer de donner une réponse vrai ou faux au respect d'une condition definie.\n",
    "\n",
    "Les operateurs logiques sont :\n",
    "- égalité : **==**\n",
    "- non-égalité : **!=**\n",
    "- négation : **not**\n",
    "- inférieur ou égal : **<=**\n",
    "- supérieur ou égal : **>=**\n",
    "- AND : **and**\n",
    "- OR : **or**\n",
    "\n",
    "Voyons quelques examples en code :\n"
   ],
   "metadata": {
    "collapsed": false
   }
  },
  {
   "cell_type": "code",
   "execution_count": 1,
   "outputs": [
    {
     "name": "stdout",
     "output_type": "stream",
     "text": [
      "25 == 50 = False\n",
      "25 != 50 = True\n",
      "25 <= 50 = True\n",
      "25 >= 50 = False\n",
      "not (25 == 50) = True\n"
     ]
    }
   ],
   "source": [
    "print(f\"{25 == 50 = }\")\n",
    "print(f\"{25 != 50 = }\")\n",
    "print(f\"{25 <= 50 = }\")\n",
    "print(f\"{25 >= 50 = }\")\n",
    "print(f\"{not (25 == 50) = }\")"
   ],
   "metadata": {
    "collapsed": false,
    "pycharm": {
     "name": "#%%\n"
    }
   }
  },
  {
   "cell_type": "markdown",
   "source": [
    "Les opérateurs **and** et **or** correspondent aux logiques du ET et du OU (non exclusif)"
   ],
   "metadata": {
    "collapsed": false
   }
  },
  {
   "cell_type": "code",
   "execution_count": 2,
   "outputs": [
    {
     "name": "stdout",
     "output_type": "stream",
     "text": [
      "True and True = True \n",
      "True and False = False \n",
      "False and False = False \n",
      "\n",
      "True or True = True \n",
      "False or True = True \n",
      "False or False = False \n"
     ]
    }
   ],
   "source": [
    "print(f\"{True and True = } \")\n",
    "print(f\"{True and False = } \")\n",
    "print(f\"{False and False = } \")\n",
    "print()\n",
    "print(f\"{True or True = } \")\n",
    "print(f\"{False or True = } \")\n",
    "print(f\"{False or False = } \")"
   ],
   "metadata": {
    "collapsed": false,
    "pycharm": {
     "name": "#%%\n"
    }
   }
  },
  {
   "cell_type": "markdown",
   "source": [
    "## Variables complexes\n",
    "\n",
    "Autre le variables dites primitives tels que les boolean, les entiers et les réels, il y a des tas d'autres types pour stocker des données. On peut nommer ces types des types complexes. Voici quelques exemples :\n",
    "- strings : des chaines de charactères\n",
    "- lists : des listes de valeurs\n",
    "- set : un ensemble de valeur qui n'admet pas de contenir deux fois la même valeur\n",
    "- tuple : pair, triple, etc de valeur (un peu le même principe que les listes)\n",
    "- dictonnaire : un set de pairs de \"clés\" et de \"valeurs\"\n",
    "- les objets : des types définis par les développeurs qu'on verra plus tard.\n",
    "\n",
    "Voyons quelques exemples :"
   ],
   "metadata": {
    "collapsed": false,
    "pycharm": {
     "name": "#%% md\n"
    }
   }
  },
  {
   "cell_type": "code",
   "execution_count": 1,
   "outputs": [],
   "source": [
    "liste_note = [10, 11, 10, 12, 13, 18, 12, 10] #note qu'on peut avoir plusieurs fois la même note\n",
    "perso_smash = {\"Mario\", \"Cloud\", \"Marth\", \"Sephiroth\", \"Joker\", \"Pikachu\"} #note que le jeu ne dispose pas de plusieurs fois le même perso\n",
    "tuple_valeurs = (25, 12)\n",
    "nb_victoires_par_perso = {\n",
    "    \"Mario\" : 12,\n",
    "    \"Cloud\" : 69,\n",
    "    \"Marth\" : 42,\n",
    "    \"Sephiroth\" : 666,\n",
    "    \"Joker\" : 777,\n",
    "    \"Pikachu\" : 0\n",
    "} # dans ce dictionnaire, on assossie à chaque perso de smash une valeur qui représente son number de victoire"
   ],
   "metadata": {
    "collapsed": false,
    "pycharm": {
     "name": "#%%\n"
    }
   }
  },
  {
   "cell_type": "code",
   "execution_count": 2,
   "outputs": [
    {
     "name": "stdout",
     "output_type": "stream",
     "text": [
      "liste_note = [10, 11, 10, 12, 13, 18, 12, 10]\n",
      "perso_smash = {'Mario', 'Sephiroth', 'Cloud', 'Marth', 'Joker', 'Pikachu'}\n",
      "tuple_valeurs = (25, 12)\n",
      "nb_victoires_par_perso = {'Mario': 12, 'Cloud': 69, 'Marth': 42, 'Sephiroth': 666, 'Joker': 777, 'Pikachu': 0}\n"
     ]
    }
   ],
   "source": [
    "print(f\"{liste_note = }\")\n",
    "print(f\"{perso_smash = }\")\n",
    "print(f\"{tuple_valeurs = }\")\n",
    "print(f\"{nb_victoires_par_perso = }\")"
   ],
   "metadata": {
    "collapsed": false,
    "pycharm": {
     "name": "#%%\n"
    }
   }
  },
  {
   "cell_type": "markdown",
   "source": [
    "#### Liste\n",
    "Une liste est ordonnée, par conséquent on peut accèder au ième élément de la list via : **list[indice]**"
   ],
   "metadata": {
    "collapsed": false
   }
  },
  {
   "cell_type": "code",
   "source": [
    "print(f\"{liste_note[0] = }\")\n",
    "print(f\"{liste_note[1] = }\")\n",
    "print(f\"{liste_note[2] = }\")"
   ],
   "metadata": {
    "collapsed": false,
    "pycharm": {
     "name": "#%%\n"
    }
   },
   "execution_count": 6,
   "outputs": [
    {
     "name": "stdout",
     "output_type": "stream",
     "text": [
      "liste_note[0] = 10\n",
      "liste_note[1] = 11\n",
      "liste_note[2] = 10\n"
     ]
    }
   ]
  },
  {
   "cell_type": "markdown",
   "source": [
    "Si l'on tente d'accèder à un indice qui est supérieur à la taille de la liste - 1, on obtient l'heure suivante:"
   ],
   "metadata": {
    "collapsed": false
   }
  },
  {
   "cell_type": "code",
   "execution_count": 5,
   "outputs": [
    {
     "ename": "IndexError",
     "evalue": "list index out of range",
     "output_type": "error",
     "traceback": [
      "\u001B[1;31m---------------------------------------------------------------------------\u001B[0m",
      "\u001B[1;31mIndexError\u001B[0m                                Traceback (most recent call last)",
      "Input \u001B[1;32mIn [5]\u001B[0m, in \u001B[0;36m<cell line: 1>\u001B[1;34m()\u001B[0m\n\u001B[1;32m----> 1\u001B[0m \u001B[38;5;28mprint\u001B[39m(\u001B[38;5;124mf\u001B[39m\u001B[38;5;124m\"\u001B[39m\u001B[38;5;132;01m{\u001B[39;00mliste_note[\u001B[38;5;241m100\u001B[39m] \u001B[38;5;132;01m= }\u001B[39;00m\u001B[38;5;124m\"\u001B[39m)\n",
      "\u001B[1;31mIndexError\u001B[0m: list index out of range"
     ]
    }
   ],
   "source": [
    "print(f\"{liste_note[100] = }\")"
   ],
   "metadata": {
    "collapsed": false,
    "pycharm": {
     "name": "#%%\n"
    }
   }
  },
  {
   "cell_type": "markdown",
   "source": [
    "On peut aussi accéder à une liste via un index négatif, nous permetant de prendre le ième dernier élément :"
   ],
   "metadata": {
    "collapsed": false
   }
  },
  {
   "cell_type": "code",
   "execution_count": 7,
   "outputs": [
    {
     "name": "stdout",
     "output_type": "stream",
     "text": [
      "liste_note[-1] = 10\n",
      "liste_note[-2] = 12\n"
     ]
    }
   ],
   "source": [
    "print(f\"{liste_note[-1] = }\")\n",
    "print(f\"{liste_note[-2] = }\")"
   ],
   "metadata": {
    "collapsed": false,
    "pycharm": {
     "name": "#%%\n"
    }
   }
  },
  {
   "cell_type": "markdown",
   "source": [
    "On peut aussi accèder à une sous liste de la liste en donnant l'indice de début et de fin (fin non comprise) : **list[indice_debut:indice_fin_non_compris]**"
   ],
   "metadata": {
    "collapsed": false
   }
  },
  {
   "cell_type": "code",
   "execution_count": 14,
   "outputs": [
    {
     "name": "stdout",
     "output_type": "stream",
     "text": [
      "liste_note[3:6] = [12, 13, 18]\n",
      "liste_note[:6] = [10, 11, 10, 12, 13, 18]\n",
      "liste_note[3:] = [12, 13, 18, 12, 10]\n",
      "liste_note[-2:] = [12, 10]\n",
      "liste_note[:-2] = [10, 11, 10, 12, 13, 18]\n"
     ]
    }
   ],
   "source": [
    "print(f\"{liste_note[3:6] = }\") # on accède au éléments aux indices 3, 4 et 5 de la liste\n",
    "print(f\"{liste_note[:6] = }\") # on accède au éléments aux indices 0, 1 ,2 ,3 ,4 ,5 de la liste\n",
    "print(f\"{liste_note[3:] = }\") # on accède au éléments aux indices 3, 4 , 5, 6 et 7 de la liste\n",
    "print(f\"{liste_note[-2:] = }\") # on accède au deux derniers éléments de la liste\n",
    "print(f\"{liste_note[:-2] = }\") # on accède à tout les éléments de la liste sauf les deux derniers"
   ],
   "metadata": {
    "collapsed": false,
    "pycharm": {
     "name": "#%%\n"
    }
   }
  },
  {
   "cell_type": "markdown",
   "source": [
    "#### Set\n",
    "\n",
    "Les set, n'étant pas ordonné, ne peuvent être accéder par indice. En fait il n'est pas possible d'accéder à un élément d'un set en particulier.\n",
    "Les set servent à effectuer des opérations d'ensembles (intersection, union, différence) où à récupérer les éléments unique d'une liste via conversion en set.\n",
    "\n",
    "Exemple :"
   ],
   "metadata": {
    "collapsed": false
   }
  },
  {
   "cell_type": "code",
   "execution_count": 16,
   "outputs": [
    {
     "name": "stdout",
     "output_type": "stream",
     "text": [
      "liste_vetement = ['pull', 'pull', 't-shirt', 'pantalon', 'short', 't-shirt', 't-shirt']\n",
      "set_vetement = {'t-shirt', 'pull', 'short', 'pantalon'} : Les vêtements dupliqués ont disparus\n"
     ]
    }
   ],
   "source": [
    "liste_vetement = [\"pull\", \"pull\", \"t-shirt\", \"pantalon\", \"short\", \"t-shirt\", \"t-shirt\"]\n",
    "set_vetement = set(liste_vetement)\n",
    "print(f\"{liste_vetement = }\")\n",
    "print(f\"{set_vetement = } : Les vêtements dupliqués ont disparus\")"
   ],
   "metadata": {
    "collapsed": false,
    "pycharm": {
     "name": "#%%\n"
    }
   }
  },
  {
   "cell_type": "markdown",
   "source": [
    "Les opérations d'ensembles entre deux ensembles A et B sont :\n",
    "- l'intersection : les éléments communs à A et B\n",
    "- l'union : les éléments de A et B\n",
    "- la différence entre A et B : les éléments de A qui ne sont **pas** dans B\n",
    "\n",
    "Voyons un exemple avec des jeux auxquels deux personnes ont joués ou non."
   ],
   "metadata": {
    "collapsed": false
   }
  },
  {
   "cell_type": "code",
   "execution_count": 18,
   "outputs": [
    {
     "name": "stdout",
     "output_type": "stream",
     "text": [
      "jeux_loic.intersection(jeux_nathan) = {'borderlands_2', 'Pokemon', 'DBZ_Fighter'}\n",
      "jeux_loic.difference(jeux_nathan) = {'persona_4', 'persona_5', 'Kingdom Hearts', 'Dissidia'}\n",
      "jeux_nathan.difference(jeux_loic) = {'Dark Souls', 'Phasmophobia', 'Resident Evil', 'Guitar Hero'}\n",
      "jeux_nathan.union(jeux_loic) = {'borderlands_2', 'Dissidia', 'persona_4', 'Phasmophobia', 'Resident Evil', 'Kingdom Hearts', 'Guitar Hero', 'persona_5', 'Dark Souls', 'Pokemon', 'DBZ_Fighter'}\n"
     ]
    }
   ],
   "source": [
    "jeux_loic = {\"borderlands_2\", \"persona_4\", \"persona_5\", \"DBZ_Fighter\", \"Dissidia\", \"Pokemon\", \"Kingdom Hearts\"}\n",
    "jeux_nathan = {\"borderlands_2\", \"Dark Souls\", \"Resident Evil\", \"DBZ_Fighter\", \"Guitar Hero\", \"Pokemon\", \"Phasmophobia\"}\n",
    "\n",
    "print(f\"{jeux_loic.intersection(jeux_nathan) = }\")\n",
    "print(f\"{jeux_loic.difference(jeux_nathan) = }\")\n",
    "print(f\"{jeux_nathan.difference(jeux_loic) = }\")\n",
    "print(f\"{jeux_nathan.union(jeux_loic) = }\")"
   ],
   "metadata": {
    "collapsed": false,
    "pycharm": {
     "name": "#%%\n"
    }
   }
  },
  {
   "cell_type": "markdown",
   "source": [
    "#### Dictionnaires\n",
    "\n",
    "Un dictionnaire est un set de combinaisons clé-valeur.\n",
    "\n",
    "Chaque élément se compose d'une clé qui est associé à une valeur. La clé sert d'indice permettant d'accéder à la valeur voulue.\n",
    "\n",
    "Exemple : les notes de cours pour une personne : chaque clé correspond à un cours, chaque valeur correspond à sa moyenne\n",
    "\n",
    "Un dictionnaire se définit de la façon suivante : **{ \"clé_1\": valeur_1, \"clé_2\" : valeur_2, \"clé_3\" : valeur_3 ... }**"
   ],
   "metadata": {
    "collapsed": false
   }
  },
  {
   "cell_type": "code",
   "execution_count": 20,
   "outputs": [
    {
     "name": "stdout",
     "output_type": "stream",
     "text": [
      "moyenne_loic = {'SFML': 11, 'Internship': 19, 'Data Mining': 16, 'Technique of Artificial Intelligence': 18}\n"
     ]
    }
   ],
   "source": [
    "moyenne_loic = {\n",
    "    \"SFML\": 11,\n",
    "    \"Internship\" : 19,\n",
    "    \"Data Mining\" : 16,\n",
    "    \"Technique of Artificial Intelligence\" : 18\n",
    "}\n",
    "print(f\"{moyenne_loic = }\")"
   ],
   "metadata": {
    "collapsed": false,
    "pycharm": {
     "name": "#%%\n"
    }
   }
  },
  {
   "cell_type": "markdown",
   "source": [
    "Les clés sont soit des strings, soit des nombres.\n",
    "Les valeurs peuvent être de n'importe quel types, mêmes des listes, dictionnaire ou objets!\n",
    "On peut donc avoir un dictionnaire contenant pour chaque personne, les jeux auxquels la personne à jouer"
   ],
   "metadata": {
    "collapsed": false
   }
  },
  {
   "cell_type": "code",
   "execution_count": 22,
   "outputs": [
    {
     "name": "stdout",
     "output_type": "stream",
     "text": [
      "jeux_joue = {'Loic': {'borderlands_2', 'Dissidia', 'persona_4', 'Pokemon', 'Kingdom Hearts', 'persona_5', 'DBZ_Fighter'}, 'Nathan': {'Dark Souls', 'borderlands_2', 'Phasmophobia', 'Resident Evil', 'Pokemon', 'Guitar Hero', 'DBZ_Fighter'}}\n"
     ]
    }
   ],
   "source": [
    "jeux_joue = {\n",
    "    \"Loic\" : jeux_loic,\n",
    "    \"Nathan\" : jeux_nathan\n",
    "}\n",
    "\n",
    "print(f\"{jeux_joue = }\")"
   ],
   "metadata": {
    "collapsed": false,
    "pycharm": {
     "name": "#%%\n"
    }
   }
  },
  {
   "cell_type": "markdown",
   "source": [
    "Pour accéder à un élément d'un dictionnaire, il suffit de donner la clé : dict[\"clé\"]"
   ],
   "metadata": {
    "collapsed": false
   }
  },
  {
   "cell_type": "code",
   "execution_count": 24,
   "outputs": [
    {
     "name": "stdout",
     "output_type": "stream",
     "text": [
      " Les jeux joué par Loic sont : {'borderlands_2', 'Dissidia', 'persona_4', 'Pokemon', 'Kingdom Hearts', 'persona_5', 'DBZ_Fighter'}\n"
     ]
    }
   ],
   "source": [
    "print(f\" Les jeux joué par Loic sont : {jeux_joue['Loic']}\")"
   ],
   "metadata": {
    "collapsed": false,
    "pycharm": {
     "name": "#%%\n"
    }
   }
  }
 ],
 "metadata": {
  "kernelspec": {
   "display_name": "Python 3",
   "language": "python",
   "name": "python3"
  },
  "language_info": {
   "codemirror_mode": {
    "name": "ipython",
    "version": 2
   },
   "file_extension": ".py",
   "mimetype": "text/x-python",
   "name": "python",
   "nbconvert_exporter": "python",
   "pygments_lexer": "ipython2",
   "version": "2.7.6"
  }
 },
 "nbformat": 4,
 "nbformat_minor": 0
}
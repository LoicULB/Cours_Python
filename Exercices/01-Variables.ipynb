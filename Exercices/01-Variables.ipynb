{
 "cells": [
  {
   "cell_type": "markdown",
   "metadata": {
    "collapsed": true,
    "pycharm": {
     "name": "#%% md\n"
    }
   },
   "source": [
    "# Les Variables\n",
    "\n",
    "Les variables sont des données que l'on stocke et manipule durant l'exécution d'un programme. Elles sont stockées en RAM et occupe de l'espace mémoire.\n",
    "En python, les variables sont non typées. Cela signifie que pour déclarer une variable, on n'a pas besoin de spécifier le type. Python devine le type de la variable.\n",
    "\n",
    "Voyons quelques examples\n",
    "\n",
    "## Déclaration de variable\n",
    "\n",
    "Disons que je souhaite stocker et utiliser des informations décrivant mon statut d'étudiant :\n",
    "- mon age (un entier)\n",
    "- mon nom et prénom (des strings)\n",
    "- le fait que j'ai, oui ou non, complété mon inscription (boolean)\n",
    "- ma moyenne (float)"
   ]
  },
  {
   "cell_type": "code",
   "execution_count": 2,
   "outputs": [],
   "source": [
    "age = 23 #écrire un entier suffit à définir une variable de ce type\n",
    "nom = \"Quivron\" #pour déclarer et initialiser un string, il suffit de l'entourer de '\"\"'\n",
    "prenom = \"Loïc\"\n",
    "is_inscription_completed = True # un boolean peut valoir True ou False\n",
    "moyenne = 14.4 # pour déclarer un nombre à virgule is suffit de l'écrire avec un \".\" à la place de la virgule"
   ],
   "metadata": {
    "collapsed": false,
    "pycharm": {
     "name": "#%%\n"
    }
   }
  },
  {
   "cell_type": "markdown",
   "source": [
    "# Manipulation de variables\n",
    "\n",
    "Les variables sont faites pour être manipulées et traitées. Cela peut se faire via de **opérations** ou des **fonctions**\n",
    "\n",
    "## Operations\n",
    "Plusieurs opérations existent en python et elles servent généralement à effectuer des opérations:\n",
    "- arithmétiques : +,-,*,/,...\n",
    "- logique : AND, OR, XOR\n",
    "\n",
    "Essayons de calculer le prix d'un ingrédient en fonction de son poid et de son poid au kilo\n"
   ],
   "metadata": {
    "collapsed": false
   }
  },
  {
   "cell_type": "markdown",
   "source": [
    "### Opérations arithmétiques\n",
    "\n",
    "Les opérations arithmétiques en python peuvent être effectuées avec les opérateurs suivants :\n",
    "- addition : **+**\n",
    "- soustraction : **-**\n",
    "- division : **/** ou **//**\n",
    "- multiplication : **\\***\n",
    "- exposant : **\\*\\***\n"
   ],
   "metadata": {
    "collapsed": false
   }
  },
  {
   "cell_type": "code",
   "execution_count": 17,
   "outputs": [
    {
     "name": "stdout",
     "output_type": "stream",
     "text": [
      "25 + 50 = 75\n",
      "25 - 50 = -25\n",
      "50 / 2 = 25.0\n",
      "50 // 2 = 25 #remarque l'absence de virgule\n",
      "50 * 2 = 100\n",
      "50 ** 2 = 2500\n"
     ]
    }
   ],
   "source": [
    "print(f\"{25 + 50 = }\")\n",
    "print(f\"{25 - 50 = }\")\n",
    "print(f\"{50 / 2 = }\")\n",
    "print(f\"{50 // 2 = } #remarque l'absence de virgule\")\n",
    "print(f\"{50 * 2 = }\")\n",
    "print(f\"{50 ** 2 = }\")"
   ],
   "metadata": {
    "collapsed": false,
    "pycharm": {
     "name": "#%%\n"
    }
   }
  },
  {
   "cell_type": "markdown",
   "source": [
    "# Operations logiques\n",
    "\n",
    "Python dispose aussi d'opérations qu'on dit logique. Elles permettent de gérer de donner une réponse vrai ou faux au respect d'une condition definie.\n",
    "\n",
    "Les operateurs logiques sont :\n",
    "- égalité : **==**\n",
    "- non-égalité : **!=**\n",
    "- négation : **not**\n",
    "- inférieur ou égal : **<=**\n",
    "- supérieur ou égal : **>=**\n",
    "- AND : **and**\n",
    "- OR : **or**\n"
   ],
   "metadata": {
    "collapsed": false
   }
  },
  {
   "cell_type": "code",
   "execution_count": 3,
   "outputs": [
    {
     "data": {
      "text/plain": "1.755"
     },
     "execution_count": 3,
     "metadata": {},
     "output_type": "execute_result"
    }
   ],
   "source": [
    "prix_kilo_ingredient = 13\n",
    "quantite_en_gramme = 135\n",
    "\n",
    "prix_ingredient = prix_kilo_ingredient * quantite_en_gramme / 1000\n",
    "prix_ingredient"
   ],
   "metadata": {
    "collapsed": false,
    "pycharm": {
     "name": "#%%\n"
    }
   }
  },
  {
   "cell_type": "markdown",
   "source": [
    "Les booleans peuvent aussi être manipulé. Cela se fait via les operations :\n",
    "- and : AND\n",
    "- or : OR\n",
    "- == : egality\n",
    "- != : not equality\n",
    "- not : not true"
   ],
   "metadata": {
    "collapsed": false
   }
  },
  {
   "cell_type": "code",
   "execution_count": 2,
   "outputs": [
    {
     "name": "stdout",
     "output_type": "stream",
     "text": [
      "True and True = True \n",
      "True and False = False \n",
      "False and False = False \n",
      "\n",
      "True or True = True \n",
      "False or True = True \n",
      "False or False = False \n"
     ]
    }
   ],
   "source": [
    "print(f\"{True and True = } \")\n",
    "print(f\"{True and False = } \")\n",
    "print(f\"{False and False = } \")\n",
    "print()\n",
    "print(f\"{True or True = } \")\n",
    "print(f\"{False or True = } \")\n",
    "print(f\"{False or False = } \")"
   ],
   "metadata": {
    "collapsed": false,
    "pycharm": {
     "name": "#%%\n"
    }
   }
  },
  {
   "cell_type": "code",
   "execution_count": 5,
   "outputs": [
    {
     "name": "stdout",
     "output_type": "stream",
     "text": [
      "True == True = True\n",
      "True == False = False\n",
      "25 == 25 = True\n",
      "25 == 26 = False\n",
      "25 == 25.000001 = False\n",
      "25 != 25.000001 = True\n"
     ]
    }
   ],
   "source": [
    "print(f\"{True == True = }\")\n",
    "print(f\"{True == False = }\")\n",
    "print(f\"{25 == 25 = }\")\n",
    "print(f\"{25 == 26 = }\")\n",
    "print(f\"{25 == 25.000001 = }\")\n",
    "print(f\"{25 != 25.000001 = }\")"
   ],
   "metadata": {
    "collapsed": false,
    "pycharm": {
     "name": "#%%\n"
    }
   }
  },
  {
   "cell_type": "markdown",
   "source": [
    "Imagine you need to check whether someone has access to the 12 euros a year subscription to the STIB, we can test this with python.\n",
    "The rules are the following :\n",
    "- être inscrit à des études\n",
    "- avoir moins de 24 ans\n",
    "- vivre à Bruxelles"
   ],
   "metadata": {
    "collapsed": false,
    "pycharm": {
     "name": "#%% md\n"
    }
   }
  },
  {
   "cell_type": "code",
   "execution_count": 9,
   "outputs": [
    {
     "name": "stdout",
     "output_type": "stream",
     "text": [
      "Va falloir raquer\n"
     ]
    }
   ],
   "source": [
    "is_inscrit_ulb = True\n",
    "age_1 = 22\n",
    "ville_de_residence = \"Bruxelles\"\n",
    "\n",
    "if is_inscrit_ulb and age_1 <= 24 and ville_de_residence == \"Bruxelles\":\n",
    "    print(\"Vous avez accès à l'abo stib à 12 euros\")\n",
    "else:\n",
    "    print(\"Va falloir raquer\")"
   ],
   "metadata": {
    "collapsed": false,
    "pycharm": {
     "name": "#%%\n"
    }
   }
  }
 ],
 "metadata": {
  "kernelspec": {
   "display_name": "Python 3",
   "language": "python",
   "name": "python3"
  },
  "language_info": {
   "codemirror_mode": {
    "name": "ipython",
    "version": 2
   },
   "file_extension": ".py",
   "mimetype": "text/x-python",
   "name": "python",
   "nbconvert_exporter": "python",
   "pygments_lexer": "ipython2",
   "version": "2.7.6"
  }
 },
 "nbformat": 4,
 "nbformat_minor": 0
}